{
 "cells": [
  {
   "cell_type": "markdown",
   "metadata": {},
   "source": [
    "# Projeto 1 - Problema N-Rainhas  \n",
    "### Autor: Marcos Angelo Cemim\n",
    "  \n",
    "(i) Operadores que poderão ser utilizados:\n",
    "  \n",
    "- Cruzamento:  \n",
    " -- cxOnePoint()  \n",
    " -- cxTwoPoint()  \n",
    " -- cxUniform()  \n",
    "  \n",
    "- Mutação:  \n",
    " -- mutShuffleIndexes()  \n",
    " -- mutUniformInt()  \n",
    "  \n",
    "- Seleção:  \n",
    " -- selTournament()  \n",
    " -- selRoulette()  \n",
    "  \n",
    "(ii) Formas de execução:  \n",
    "  \n",
    "\n",
    "- Rodar pelo menos 2 (duas) combinações diferentes entre os operadores (Seleção, Cruzamento e Mutação) \n",
    "- Apresentar as soluções obtidas para cada combinação.   \n",
    "- Desenvolver o Algoritmo Genético com o framework DEAP\n",
    "- Executar as combinações  para 10, 15 e 20 Rainhas "
   ]
  },
  {
   "cell_type": "markdown",
   "metadata": {},
   "source": [
    "### Importação das funções"
   ]
  },
  {
   "cell_type": "code",
   "execution_count": 5,
   "metadata": {},
   "outputs": [],
   "source": [
    "import random\n",
    "from deap import base, creator, tools, algorithms\n",
    "import numpy as np\n",
    "import warnings\n",
    "warnings.filterwarnings(\"ignore\")\n",
    "import time"
   ]
  },
  {
   "cell_type": "markdown",
   "metadata": {},
   "source": [
    "### Define função fitness"
   ]
  },
  {
   "cell_type": "code",
   "execution_count": 6,
   "metadata": {},
   "outputs": [],
   "source": [
    "# Geração de valores aleatórios para teste\n",
    "# Função objetivo: número de pares de rainhas não-atacantes\n",
    "# Exemplo: 8-Rainhas\n",
    "# min = 0, max = 8 x 7/2 = 28\n",
    "def funcao_avaliacao(solucao):\n",
    "        \n",
    "        h = 0\n",
    "        #Contagem de ataques na diagonal e vertical\n",
    "        for i in range(0, len(solucao)):\n",
    "            for j in range(0, len(solucao)):\n",
    "                if j > i:\n",
    "                    # Avalia a diferença entre as colunas e as posições\n",
    "                    # das rainhas dentro da coluna\n",
    "                    if abs(i - j) == abs(solucao[i] - solucao[j]):\n",
    "                       #  print(f'{i} - {j} - {solucao[i]}-{solucao[j]}')\n",
    "                       h += 1\n",
    "                    # Ataques por linha (horizontal)\n",
    "                    # Avalia apenas as posições das rainhas\n",
    "                    if abs(solucao[i] - solucao[j]) == 0:\n",
    "                       h += 1\n",
    "        return h,\n",
    "    \n"
   ]
  },
  {
   "cell_type": "markdown",
   "metadata": {},
   "source": [
    "## Estrtura DEAP"
   ]
  },
  {
   "cell_type": "markdown",
   "metadata": {},
   "source": [
    "#### "
   ]
  },
  {
   "cell_type": "code",
   "execution_count": 22,
   "metadata": {},
   "outputs": [],
   "source": [
    "N = 8\n",
    "\n",
    "# Gera o objetivo toolbox responsável por registrar as configurações do framewrok\n",
    "toolbox = base.Toolbox()\n",
    "\n",
    "# Cria o tipo de função fitness e indivíduo\n",
    "creator.create(\"minimizar\", base.Fitness, weights=(-1.0,))\n",
    "creator.create(\"individual\", list, fitness=creator.minimizar)"
   ]
  },
  {
   "cell_type": "code",
   "execution_count": 19,
   "metadata": {},
   "outputs": [],
   "source": [
    "\n",
    "# Registra os nomes e os tipos de individuo, fiteness e população\n",
    "toolbox.register(\"atributo\", random.randint, 0, 1)\n",
    "toolbox.register(\"solucaoFinal\", tools.initRepeat, creator.individual, toolbox.atributo, n=8 )\n",
    "toolbox.register(\"Populacao\", tools.initRepeat, list, toolbox.solucaoFinal)\n",
    "\n",
    "# Registra os operadores. Deve-se manter os nomes evaluate, mate, mutate e select\n",
    "toolbox.register(\"evaluate\", funcao_avaliacao)\n",
    "toolbox.register(\"mate\", tools.cxTwoPoints)\n",
    "toolbox.register(\"mutate\", tools.mutUniformInt, low=0, up=N, indpb=0.05)  \n",
    "toolbox.register(\"select\", tools.selTournament, tournsize = 3)\n"
   ]
  },
  {
   "cell_type": "code",
   "execution_count": 4,
   "metadata": {},
   "outputs": [],
   "source": [
    "def statistics(individual):\n",
    "  return individual.fitness.values"
   ]
  },
  {
   "cell_type": "code",
   "execution_count": 21,
   "metadata": {},
   "outputs": [
    {
     "name": "stdout",
     "output_type": "stream",
     "text": [
      "gen\tnevals\tMelhor Solucao\tMedia da Populacao\n",
      "0  \t100   \t14            \t17.81             \n",
      "1  \t99    \t8             \t15.48             \n",
      "2  \t93    \t5             \t13.03             \n",
      "3  \t96    \t4             \t10.95             \n",
      "4  \t91    \t4             \t8.84              \n",
      "5  \t97    \t3             \t7.08              \n",
      "6  \t92    \t3             \t5.92              \n",
      "7  \t96    \t3             \t5.29              \n",
      "8  \t93    \t3             \t4.51              \n",
      "9  \t97    \t2             \t4.45              \n",
      "10 \t96    \t2             \t4.02              \n",
      "11 \t93    \t2             \t3.85              \n",
      "12 \t90    \t1             \t3.82              \n",
      "13 \t92    \t1             \t3.56              \n",
      "14 \t96    \t1             \t3.43              \n",
      "15 \t95    \t1             \t3.18              \n",
      "16 \t94    \t1             \t2.69              \n",
      "17 \t92    \t1             \t2.5               \n",
      "18 \t93    \t1             \t2.11              \n",
      "19 \t97    \t0             \t1.93              \n",
      "20 \t91    \t0             \t1.87              \n",
      "21 \t91    \t0             \t1.83              \n",
      "22 \t94    \t0             \t1.36              \n",
      "23 \t95    \t0             \t1.38              \n",
      "24 \t92    \t0             \t1.32              \n",
      "25 \t95    \t0             \t1.12              \n",
      "26 \t93    \t0             \t0.91              \n",
      "27 \t95    \t0             \t1.11              \n",
      "28 \t93    \t0             \t1                 \n",
      "29 \t96    \t0             \t1.17              \n",
      "30 \t94    \t0             \t1.43              \n",
      "31 \t91    \t0             \t1.01              \n",
      "32 \t93    \t0             \t1.16              \n",
      "33 \t89    \t0             \t0.84              \n",
      "34 \t93    \t0             \t0.74              \n",
      "35 \t96    \t0             \t0.84              \n",
      "36 \t94    \t0             \t0.71              \n",
      "37 \t97    \t0             \t0.79              \n",
      "38 \t97    \t0             \t0.64              \n",
      "39 \t92    \t0             \t0.55              \n",
      "40 \t90    \t0             \t0.68              \n",
      "41 \t95    \t0             \t0.72              \n",
      "42 \t92    \t0             \t0.61              \n",
      "43 \t92    \t0             \t0.36              \n",
      "44 \t93    \t0             \t0.51              \n",
      "45 \t96    \t0             \t0.48              \n",
      "46 \t92    \t0             \t0.57              \n",
      "47 \t95    \t0             \t0.55              \n",
      "48 \t95    \t0             \t0.5               \n",
      "49 \t94    \t0             \t0.62              \n",
      "50 \t96    \t0             \t0.51              \n",
      "Solucao: [1, 8, 5, 2, 4, 7, 0, 3] - Fit: (0,)\n"
     ]
    }
   ],
   "source": [
    "# Gera o Algoritmo Genético com a estrutura e operadores cadastrados\n",
    "pop = toolbox.Populacao(n=100)\n",
    "prob_cx = 0.7\n",
    "prob_mt = 0.8\n",
    "nger = 50\n",
    "hof = tools.HallOfFame(10)\n",
    "stat = tools.Statistics(lambda ind: ind.fitness.values)\n",
    "stat.register(\"Melhor Solucao\", np.min)\n",
    "stat.register(\"Media da Populacao\", np.mean)\n",
    "\n",
    "# finalPop, log = algorithms.eaSimple(pop, toolbox, prob_cx, prob_mt, nger, stat, hof, verbose = True)\n",
    "finalPop, log = algorithms.eaSimple(pop, toolbox, prob_cx, prob_mt, nger, stat, hof, verbose = True)\n",
    "\n",
    "melhorSolucao = tools.selBest(finalPop, 1)[0]\n",
    "\n",
    "# for i in hof:\n",
    "#   print(f'Solucao: {i} - Fit: {i.fitness}')\n",
    "print(f'Solucao: {melhorSolucao} - Fit: {funcao_avaliacao(melhorSolucao)}')"
   ]
  },
  {
   "cell_type": "code",
   "execution_count": 13,
   "metadata": {},
   "outputs": [
    {
     "data": {
      "text/plain": [
       "[[1, 1, 1, 1, 0, 0, 0, 0]]"
      ]
     },
     "execution_count": 13,
     "metadata": {},
     "output_type": "execute_result"
    }
   ],
   "source": [
    "melhorSolucao"
   ]
  }
 ],
 "metadata": {
  "kernelspec": {
   "display_name": ".venv",
   "language": "python",
   "name": "python3"
  },
  "language_info": {
   "codemirror_mode": {
    "name": "ipython",
    "version": 3
   },
   "file_extension": ".py",
   "mimetype": "text/x-python",
   "name": "python",
   "nbconvert_exporter": "python",
   "pygments_lexer": "ipython3",
   "version": "3.10.11"
  }
 },
 "nbformat": 4,
 "nbformat_minor": 2
}
