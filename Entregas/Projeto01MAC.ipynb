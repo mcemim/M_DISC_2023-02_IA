{
 "cells": [
  {
   "cell_type": "markdown",
   "metadata": {},
   "source": [
    "# Projeto 1 - Problema N-Rainhas  \n",
    "### Autor: Marcos Angelo Cemim\n",
    "  \n",
    "(i) Operadores que poderão ser utilizados:\n",
    "  \n",
    "- Cruzamento:  \n",
    " -- cxOnePoint()  \n",
    " -- cxTwoPoint()  \n",
    " -- cxUniform()  \n",
    "  \n",
    "- Mutação:  \n",
    " -- mutShuffleIndexes()  \n",
    " -- mutUniformInt()  \n",
    "  \n",
    "- Seleção:  \n",
    " -- selTournament()  \n",
    " -- selRoulette()  \n",
    "  \n",
    "(ii) Formas de execução:  \n",
    "  \n",
    "\n",
    "- Rodar pelo menos 2 (duas) combinações diferentes entre os operadores (Seleção, Cruzamento e Mutação) \n",
    "- Apresentar as soluções obtidas para cada combinação.   \n",
    "- Desenvolver o Algoritmo Genético com o framework DEAP\n",
    "- Executar as combinações  para 10, 15 e 20 Rainhas "
   ]
  },
  {
   "cell_type": "markdown",
   "metadata": {},
   "source": [
    "## Encontrando todas as combinações possíveis dos parâmetros"
   ]
  },
  {
   "cell_type": "code",
   "execution_count": 1,
   "metadata": {},
   "outputs": [],
   "source": [
    "parameters_list = {\n",
    "    'p1': ['OnePoint', 'TwoPoints', 'Uniform'],     # Cruzamentos\n",
    "    'p2': ['Shuffleindexes', 'UniformInt'],         # Mutação\n",
    "    'p3': ['Tournament', 'Roulette']                # Seleção\n",
    "}"
   ]
  },
  {
   "cell_type": "code",
   "execution_count": 2,
   "metadata": {},
   "outputs": [],
   "source": [
    "from itertools import product\n",
    "\n",
    "def encontrar_combinacoes(dicionario):\n",
    "    chaves = dicionario.keys()\n",
    "    valores = [dicionario[chave] for chave in chaves]\n",
    "    todas_combinacoes = list(product(*valores))\n",
    "    return todas_combinacoes"
   ]
  },
  {
   "cell_type": "code",
   "execution_count": 3,
   "metadata": {},
   "outputs": [],
   "source": [
    "lista_parametros = encontrar_combinacoes(parameters_list)"
   ]
  },
  {
   "cell_type": "markdown",
   "metadata": {},
   "source": [
    "## Importação das bibliotecas"
   ]
  },
  {
   "cell_type": "code",
   "execution_count": 4,
   "metadata": {},
   "outputs": [],
   "source": [
    "import random\n",
    "from deap import base, creator, tools, algorithms\n",
    "import warnings\n",
    "import numpy as np\n",
    "warnings.filterwarnings(\"ignore\")\n",
    "import time"
   ]
  },
  {
   "cell_type": "markdown",
   "metadata": {},
   "source": [
    "## Implementação do algoritmo"
   ]
  },
  {
   "cell_type": "markdown",
   "metadata": {},
   "source": [
    "#### Funçao de avaliação (fitness)"
   ]
  },
  {
   "cell_type": "code",
   "execution_count": 5,
   "metadata": {},
   "outputs": [],
   "source": [
    "# Defina a função de aptidão\n",
    "def fitness_function(solucao):\n",
    "        h = 0\n",
    "        #Contagem de ataques na diagonal e vertical\n",
    "        for i in range(0, len(solucao)):\n",
    "            for j in range(0, len(solucao)):\n",
    "                if j > i:\n",
    "                    # Avalia a diferença entre as colunas e as posições\n",
    "                    # das rainhas dentro da coluna\n",
    "                    if abs(i - j) == abs(solucao[i] - solucao[j]):\n",
    "                       #  print(f'{i} - {j} - {solucao[i]}-{solucao[j]}')\n",
    "                       h += 1\n",
    "                    # Ataques por linha (horizontal)\n",
    "                    # Avalia apenas as posições das rainhas\n",
    "                    if abs(solucao[i] - solucao[j]) == 0:\n",
    "                       h += 1\n",
    "        return h,\n",
    "\n",
    "# Defina a função de aptidão \"inversa\"\n",
    "# Por definição, a função de seleçao \"selRoulette\" nãqo pode ser utilizada para minimização.\n",
    "# Portanto, vamos criar uma função \"inversa\" para avaliar\n",
    "def fitness_function_inv(solucao):\n",
    "        h = 0\n",
    "        melhorFitness = (len(solucao) * (len(solucao) - 1) // 2)\n",
    "        #Contagem de ataques na diagonal e vertical\n",
    "        for i in range(0, len(solucao)):\n",
    "            for j in range(0, len(solucao)):\n",
    "                if j > i:\n",
    "                    # Avalia a diferença entre as colunas e as posições\n",
    "                    # das rainhas dentro da coluna\n",
    "                    if abs(i - j) == abs(solucao[i] - solucao[j]):\n",
    "                       #  print(f'{i} - {j} - {solucao[i]}-{solucao[j]}')\n",
    "                       h += 1\n",
    "                    # Ataques por linha (horizontal)\n",
    "                    # Avalia apenas as posições das rainhas\n",
    "                    if abs(solucao[i] - solucao[j]) == 0:\n",
    "                       h += 1\n",
    "        return melhorFitness - h,\n",
    "    "
   ]
  },
  {
   "cell_type": "markdown",
   "metadata": {},
   "source": [
    "#### Parâmetros gerais (dfefinidos arbitrariamente)"
   ]
  },
  {
   "cell_type": "code",
   "execution_count": 6,
   "metadata": {},
   "outputs": [],
   "source": [
    "pop_size = 100  # Tamanho da população\n",
    "cxpb = 0.6      # Probabilidade de cruzamento\n",
    "mutpb = 0.1     # Probabilidade de mutação\n",
    "ngen = 2000     # Número de gerações\n",
    "tourn_size = 3  # Indivíduos participantes do 'torunament'\n",
    "indpb = 0.05    # Independent probability for each attribute to be exchanged to another position."
   ]
  },
  {
   "cell_type": "markdown",
   "metadata": {},
   "source": [
    "#### Rodando todas as combinações em todos os cenários sugeridos para avaliar os melhores desempenhos"
   ]
  },
  {
   "cell_type": "code",
   "execution_count": 7,
   "metadata": {},
   "outputs": [
    {
     "name": "stdout",
     "output_type": "stream",
     "text": [
      "-------------------------------------------------- 10 RAINHAS --------------------------------------------------\n",
      "('OnePoint', 'Shuffleindexes', 'Tournament')  |       4.70 s | Melhor solução: [2, 0, 9, 6, 4, 9, 1, 8, 5, 7] @ 1\n",
      "('OnePoint', 'Shuffleindexes', 'Roulette')    |       8.28 s | Melhor solução: [5, 8, 0, 7, 7, 2, 8, 3, 9, 3] @ 4\n",
      "('OnePoint', 'UniformInt', 'Tournament')      |       4.69 s | Melhor solução: [9, 6, 8, 1, 4, 7, 0, 10, 5, 2] @ 0\n",
      "('OnePoint', 'UniformInt', 'Roulette')        |       8.42 s | Melhor solução: [0, 9, 9, 6, 10, 2, 5, 1, 4, 7] @ 2\n",
      "('TwoPoints', 'Shuffleindexes', 'Tournament') |       4.79 s | Melhor solução: [5, 9, 4, 1, 8, 6, 2, 0, 7, 9] @ 1\n",
      "('TwoPoints', 'Shuffleindexes', 'Roulette')   |       8.40 s | Melhor solução: [7, 9, 0, 8, 1, 3, 8, 6, 1, 3] @ 4\n",
      "('TwoPoints', 'UniformInt', 'Tournament')     |       4.74 s | Melhor solução: [6, 4, 2, 0, 3, 10, 8, 5, 9, 1] @ 0\n",
      "('TwoPoints', 'UniformInt', 'Roulette')       |       8.44 s | Melhor solução: [7, 2, 8, 6, 9, 7, 10, 1, 3, 5] @ 1\n",
      "('Uniform', 'Shuffleindexes', 'Tournament')   |       4.50 s | Melhor solução: [5, 7, 4, 1, 3, 9, 6, 8, 2, 0] @ 0\n",
      "('Uniform', 'Shuffleindexes', 'Roulette')     |       8.38 s | Melhor solução: [8, 4, 8, 0, 9, 4, 8, 5, 9, 2] @ 5\n",
      "('Uniform', 'UniformInt', 'Tournament')       |       4.71 s | Melhor solução: [7, 5, 3, 0, 9, 4, 2, 10, 6, 1] @ 0\n",
      "('Uniform', 'UniformInt', 'Roulette')         |       8.34 s | Melhor solução: [0, 7, 3, 6, 9, 2, 0, 5, 10, 8] @ 1\n",
      "------------------------------------------------------------------------------------------------------------------------------------------------------------------------------------\n",
      "Melhor solução: ('OnePoint', 'UniformInt', 'Tournament') com 0 ataques\n",
      "-------------------------------------------------- 15 RAINHAS --------------------------------------------------\n",
      "('OnePoint', 'Shuffleindexes', 'Tournament')  |       7.19 s | Melhor solução: [10, 3, 13, 2, 8, 6, 1, 1, 6, 0, 7, 14, 12, 9, 4] @ 2\n",
      "('OnePoint', 'Shuffleindexes', 'Roulette')    |      11.03 s | Melhor solução: [0, 9, 0, 9, 1, 13, 10, 2, 9, 11, 1, 2, 0, 9, 13] @ 15\n",
      "('OnePoint', 'UniformInt', 'Tournament')      |       7.08 s | Melhor solução: [2, 8, 14, 11, 1, 5, 9, 12, 0, 13, 3, 10, 6, 4, 15] @ 0\n",
      "('OnePoint', 'UniformInt', 'Roulette')        |      11.07 s | Melhor solução: [15, 13, 7, 3, 12, 8, 14, 5, 3, 10, 2, 0, 6, 4, 13] @ 5\n",
      "('TwoPoints', 'Shuffleindexes', 'Tournament') |       7.30 s | Melhor solução: [11, 2, 8, 1, 9, 13, 6, 14, 0, 5, 12, 4, 7, 10, 3] @ 0\n",
      "('TwoPoints', 'Shuffleindexes', 'Roulette')   |      10.89 s | Melhor solução: [4, 7, 12, 0, 2, 14, 13, 12, 14, 14, 0, 4, 13, 0, 2] @ 15\n",
      "('TwoPoints', 'UniformInt', 'Tournament')     |       7.15 s | Melhor solução: [8, 13, 2, 9, 7, 14, 0, 11, 15, 1, 3, 6, 10, 12, 4] @ 1\n",
      "('TwoPoints', 'UniformInt', 'Roulette')       |      10.80 s | Melhor solução: [4, 8, 11, 5, 3, 9, 2, 10, 13, 6, 0, 0, 14, 5, 1] @ 6\n",
      "('Uniform', 'Shuffleindexes', 'Tournament')   |       6.99 s | Melhor solução: [6, 3, 0, 11, 13, 5, 1, 14, 12, 2, 9, 7, 4, 10, 8] @ 0\n",
      "('Uniform', 'Shuffleindexes', 'Roulette')     |      10.90 s | Melhor solução: [10, 10, 0, 14, 5, 4, 2, 14, 10, 2, 2, 5, 14, 0, 0] @ 16\n",
      "('Uniform', 'UniformInt', 'Tournament')       |       6.71 s | Melhor solução: [7, 4, 8, 5, 15, 10, 0, 2, 9, 13, 6, 3, 1, 11, 14] @ 0\n",
      "('Uniform', 'UniformInt', 'Roulette')         |      10.28 s | Melhor solução: [1, 14, 2, 15, 15, 0, 10, 6, 13, 6, 0, 5, 13, 9, 12] @ 7\n",
      "------------------------------------------------------------------------------------------------------------------------------------------------------------------------------------\n",
      "Melhor solução: ('OnePoint', 'UniformInt', 'Tournament') com 0 ataques\n",
      "-------------------------------------------------- 20 RAINHAS --------------------------------------------------\n",
      "('OnePoint', 'Shuffleindexes', 'Tournament')  |       9.72 s | Melhor solução: [6, 14, 5, 10, 13, 0, 8, 4, 19, 17, 11, 7, 16, 12, 2, 9, 3, 15, 18, 1] @ 0\n",
      "('OnePoint', 'Shuffleindexes', 'Roulette')    |      13.42 s | Melhor solução: [7, 16, 16, 18, 15, 18, 16, 2, 7, 18, 2, 7, 18, 15, 19, 3, 16, 7, 19, 3] @ 27\n",
      "('OnePoint', 'UniformInt', 'Tournament')      |       9.70 s | Melhor solução: [12, 16, 5, 11, 15, 19, 2, 4, 18, 9, 0, 20, 13, 8, 1, 7, 14, 3, 17, 10] @ 0\n",
      "('OnePoint', 'UniformInt', 'Roulette')        |      13.83 s | Melhor solução: [11, 13, 3, 12, 9, 13, 1, 6, 15, 3, 0, 8, 2, 19, 0, 6, 14, 16, 4, 7] @ 11\n",
      "('TwoPoints', 'Shuffleindexes', 'Tournament') |      10.04 s | Melhor solução: [16, 8, 10, 17, 4, 2, 9, 3, 14, 14, 1, 10, 5, 15, 12, 19, 11, 18, 0, 6] @ 2\n",
      "('TwoPoints', 'Shuffleindexes', 'Roulette')   |      13.44 s | Melhor solução: [1, 6, 16, 7, 12, 1, 7, 15, 3, 15, 16, 10, 3, 7, 3, 10, 10, 12, 1, 3] @ 27\n",
      "('TwoPoints', 'UniformInt', 'Tournament')     |      10.05 s | Melhor solução: [5, 15, 19, 4, 11, 13, 6, 20, 12, 8, 3, 0, 2, 9, 16, 10, 7, 14, 1, 17] @ 0\n",
      "('TwoPoints', 'UniformInt', 'Roulette')       |      13.52 s | Melhor solução: [0, 16, 19, 2, 13, 17, 5, 18, 15, 4, 16, 9, 13, 18, 20, 3, 20, 11, 11, 6] @ 11\n",
      "('Uniform', 'Shuffleindexes', 'Tournament')   |       9.97 s | Melhor solução: [3, 13, 10, 18, 1, 19, 2, 12, 17, 11, 8, 0, 4, 14, 9, 15, 6, 16, 5, 7] @ 1\n",
      "('Uniform', 'Shuffleindexes', 'Roulette')     |      13.36 s | Melhor solução: [10, 17, 11, 3, 19, 16, 19, 3, 10, 2, 16, 2, 19, 17, 2, 11, 16, 16, 17, 17] @ 28\n",
      "('Uniform', 'UniformInt', 'Tournament')       |       9.84 s | Melhor solução: [2, 15, 8, 10, 3, 18, 6, 4, 20, 17, 19, 14, 2, 5, 7, 9, 1, 13, 16, 0] @ 1\n",
      "('Uniform', 'UniformInt', 'Roulette')         |      13.28 s | Melhor solução: [5, 16, 5, 9, 3, 16, 19, 14, 8, 5, 3, 8, 20, 2, 15, 19, 7, 11, 2, 17] @ 10\n",
      "------------------------------------------------------------------------------------------------------------------------------------------------------------------------------------\n",
      "Melhor solução: ('OnePoint', 'Shuffleindexes', 'Tournament') com 0 ataques\n"
     ]
    }
   ],
   "source": [
    "for N in [10, 15, 20]:\n",
    "    best_fit = 10000\n",
    "    best_sol = ''\n",
    "    best_param = ''\n",
    "    print(f\"{'-'*50} {N} RAINHAS {'-'*50}\")\n",
    "    for param in lista_parametros:\n",
    "        inicio = time.time()\n",
    "        print(f'{str(param):45s}', end= ' | ')\n",
    "        # Configurar a estrutura DEAP para minimizar\n",
    "        \n",
    "        # Gera o objetivo toolbox responsável por registrar as configurações do framewrok\n",
    "        toolbox = base.Toolbox()\n",
    "\n",
    "\n",
    "        if param[2] == 'Roulette':\n",
    "            # Cria o tipo de função fitness e indivíduo\n",
    "            creator.create(\"maximizar\", base.Fitness, weights=(1.0,))\n",
    "            creator.create(\"individual\", list, fitness=creator.maximizar)\n",
    "            \n",
    "        else:\n",
    "            # Cria o tipo de função fitness e indivíduo\n",
    "            creator.create(\"minimizar\", base.Fitness, weights=(-1.0,))\n",
    "            creator.create(\"individual\", list, fitness=creator.minimizar)\n",
    "\n",
    "        # Registra os nomes e os tipos de individuo, fitness e população\n",
    "        toolbox.register(\"atributo\", random.randint, 0, 1)\n",
    "        toolbox.register(\"solucaoFinal\", tools.initRepeat, creator.individual, toolbox.atributo, n=N )\n",
    "        toolbox.register(\"Populacao\", tools.initRepeat, list, toolbox.solucaoFinal)\n",
    "\n",
    "\n",
    "        # Define a criação de indivíduos e populações\n",
    "        toolbox = base.Toolbox()\n",
    "        toolbox.register(\"permutation\", random.sample, range(N), N)\n",
    "        toolbox.register(\"individual\", tools.initIterate, creator.individual, toolbox.permutation)\n",
    "        toolbox.register(\"population\", tools.initRepeat, list, toolbox.individual)\n",
    "\n",
    "        # Definir operadores genéticos\n",
    "        ## Cruzamento\n",
    "        if param[0] == 'OnePoint':\n",
    "            toolbox.register(\"mate\", tools.cxOnePoint)    \n",
    "        elif param[0] == 'TwoPoints':\n",
    "            toolbox.register(\"mate\", tools.cxTwoPoint)  \n",
    "        elif param[0] == 'Uniform':\n",
    "            toolbox.register(\"mate\", tools.cxUniform, indpb=indpb)\n",
    "\n",
    "        ## Mutação\n",
    "        if param[1] == 'Shuffleindexes':\n",
    "            toolbox.register(\"mutate\", tools.mutShuffleIndexes, indpb=indpb)  \n",
    "        elif param[1] == 'UniformInt':\n",
    "            toolbox.register(\"mutate\", tools.mutUniformInt, low=0, up=N, indpb=indpb)  \n",
    "\n",
    "        ## Seleção\n",
    "        if param[2] == 'Tournament':\n",
    "            toolbox.register(\"select\", tools.selTournament, tournsize=tourn_size)    # Seleção\n",
    "            toolbox.register('evaluate', fitness_function)\n",
    "        elif param[2] == 'Roulette':\n",
    "            toolbox.register(\"select\", tools.selRoulette) \n",
    "            toolbox.register('evaluate', fitness_function_inv)\n",
    "\n",
    "        pop = toolbox.population(n=pop_size)\n",
    "        hof = tools.HallOfFame(10)\n",
    "        stat = tools.Statistics(lambda ind: ind.fitness.values)\n",
    "        stat.register(\"Melhor Solucao\", np.min)\n",
    "        stat.register(\"Media da Populacao\", np.mean)\n",
    "        finalPop, log = algorithms.eaSimple(pop, toolbox, cxpb, mutpb, ngen, stat, hof, verbose = False)\n",
    "        best_solution = tools.selBest(finalPop, 1)[0]\n",
    "        new_fit = fitness_function(best_solution)[0]\n",
    "        best_sol = best_solution if new_fit < best_fit else best_sol\n",
    "        best_param = str(param) if new_fit < best_fit else best_param\n",
    "        best_fit = new_fit if new_fit < best_fit else best_fit\n",
    "        tempo = time.time()-inicio\n",
    "        print(f\"{tempo:10.2f} s | Melhor solução: {best_solution} @ {new_fit}\")\n",
    "    print(\"-\"*180)\n",
    "    print(f\"Melhor solução: {best_param} com {best_fit} ataques\")"
   ]
  },
  {
   "cell_type": "markdown",
   "metadata": {},
   "source": [
    "# CONCLUSÃO"
   ]
  },
  {
   "cell_type": "markdown",
   "metadata": {},
   "source": [
    "Para cada um dos cenários solicitados (N = 10, 15 e 20), as configuração otimizadas são ligeiramente diferentes.  \n",
    "Além disso, para cenários com menor complexidade e tamanho dos vetores de resposta, seria possível otimizar os parâmetros de tamanho de população e numero de gerações.  \n",
    "A conclusão final é de que para cada cenário e aplicação, uma nova configuração é indicada para otimizar o algoritmo.  \n",
    "Para cenários parecidos, os ganhos com diferentes configurações não ficam tão expressivos. "
   ]
  }
 ],
 "metadata": {
  "kernelspec": {
   "display_name": ".venv",
   "language": "python",
   "name": "python3"
  },
  "language_info": {
   "codemirror_mode": {
    "name": "ipython",
    "version": 3
   },
   "file_extension": ".py",
   "mimetype": "text/x-python",
   "name": "python",
   "nbconvert_exporter": "python",
   "pygments_lexer": "ipython3",
   "version": "3.10.11"
  }
 },
 "nbformat": 4,
 "nbformat_minor": 2
}
