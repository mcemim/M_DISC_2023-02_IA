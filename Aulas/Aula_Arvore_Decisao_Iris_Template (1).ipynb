{
  "cells": [
    {
      "cell_type": "markdown",
      "metadata": {
        "id": "PjZupRdkDKYi"
      },
      "source": [
        "# **Exemplo de implementação Árvore de Decisão**\n",
        "* Base de Dados: Iris.csv\n",
        "* https://www.kaggle.com/datasets/uciml/iris?select=Iris.csv\n"
      ]
    },
    {
      "cell_type": "code",
      "execution_count": null,
      "metadata": {
        "_cell_guid": "b1076dfc-b9ad-4769-8c92-a6c4dae69d19",
        "_uuid": "8f2839f25d086af736a60e9eeb907d3b93b6e0e5",
        "id": "vH5FWXDIDKYj"
      },
      "outputs": [],
      "source": [
        "#Importa a biblioteca pandas\n",
        "import pandas as pd"
      ]
    },
    {
      "cell_type": "code",
      "execution_count": null,
      "metadata": {
        "_cell_guid": "",
        "_uuid": "",
        "id": "d6ili7JeDKYk"
      },
      "outputs": [],
      "source": [
        "#Carrega a base Iris\n",
        "data = pd.read_csv(\"Iris.csv\")"
      ]
    },
    {
      "cell_type": "code",
      "execution_count": null,
      "metadata": {
        "id": "coWx2B3EDKYk"
      },
      "outputs": [],
      "source": [
        "data"
      ]
    },
    {
      "cell_type": "code",
      "source": [
        "data.info()"
      ],
      "metadata": {
        "id": "DUdNof9yDb8u"
      },
      "execution_count": null,
      "outputs": []
    },
    {
      "cell_type": "code",
      "source": [
        "data.head()"
      ],
      "metadata": {
        "id": "YqMBMJc4Djt2"
      },
      "execution_count": null,
      "outputs": []
    },
    {
      "cell_type": "markdown",
      "metadata": {
        "id": "i4CtLDziDKYk"
      },
      "source": [
        "### Pré-processamento\n",
        "* Conversão dos dados atributo classe (species) para binário\n",
        "* LabelEncoder:\n",
        "* https://scikit-learn.org/stable/modules/generated/sklearn.preprocessing.LabelEncoder.html\n",
        "* Remoção do atributo Id"
      ]
    },
    {
      "cell_type": "code",
      "execution_count": null,
      "metadata": {
        "id": "gi95THHfDKYl"
      },
      "outputs": [],
      "source": [
        "#  Código Aqui"
      ]
    },
    {
      "cell_type": "code",
      "execution_count": null,
      "metadata": {
        "id": "_p_GxpAEDKYl"
      },
      "outputs": [],
      "source": [
        "data"
      ]
    },
    {
      "cell_type": "code",
      "source": [
        "# Remover a coluna Is\n",
        "# Código Aqui"
      ],
      "metadata": {
        "id": "CBXvblbO_uLM"
      },
      "execution_count": null,
      "outputs": []
    },
    {
      "cell_type": "code",
      "source": [
        "data"
      ],
      "metadata": {
        "id": "2jHguPRKADLe"
      },
      "execution_count": null,
      "outputs": []
    },
    {
      "cell_type": "markdown",
      "metadata": {
        "id": "M5n6lcFRDKYl"
      },
      "source": [
        "### Divisão da base de dados entre treino e teste\n",
        "* y - Obtem os valores da classe.\n",
        "* X - Obtem os dados de treinamento (previsores)."
      ]
    },
    {
      "cell_type": "code",
      "execution_count": null,
      "metadata": {
        "id": "o4F3UXKRDKYl"
      },
      "outputs": [],
      "source": [
        "# Biblioteca para separação treino e teste\n",
        "from sklearn.model_selection import train_test_split"
      ]
    },
    {
      "cell_type": "code",
      "source": [
        "# Faz a separação entre classe e previsores (X e y)\n",
        "# Código Aqui"
      ],
      "metadata": {
        "id": "hI2WwWEgXOjH"
      },
      "execution_count": null,
      "outputs": []
    },
    {
      "cell_type": "code",
      "execution_count": null,
      "metadata": {
        "id": "62v1S4AdDKYl"
      },
      "outputs": [],
      "source": [
        "# Faz a separação treino e teste\n",
        "X_train, X_test, y_train, y_test = train_test_split(X, y, test_size=0.3, random_state=1)"
      ]
    },
    {
      "cell_type": "code",
      "execution_count": null,
      "metadata": {
        "id": "J9sbSOIJDKYm"
      },
      "outputs": [],
      "source": [
        "# Importa a classe de árvore de decisão\n",
        "from sklearn import tree"
      ]
    },
    {
      "cell_type": "code",
      "source": [
        "# Gera o objeto árvore de decisão\n",
        "# Treina o modelo\n",
        "# Código Aqui"
      ],
      "metadata": {
        "id": "ppiU9_-aXfxM"
      },
      "execution_count": null,
      "outputs": []
    },
    {
      "cell_type": "code",
      "execution_count": null,
      "metadata": {
        "id": "0-Ir8LWYDKYm"
      },
      "outputs": [],
      "source": [
        "# Armazena o resultado da predição em y_pred\n",
        "# Código Aqui"
      ]
    },
    {
      "cell_type": "code",
      "source": [
        "# Importa a classe de métricas\n",
        "from sklearn import metrics"
      ],
      "metadata": {
        "id": "nMruIi9k9oL4"
      },
      "execution_count": null,
      "outputs": []
    },
    {
      "cell_type": "code",
      "execution_count": null,
      "metadata": {
        "id": "2XVvxH_FDKYm"
      },
      "outputs": [],
      "source": [
        "metrics.accuracy_score(y_test, y_pred)"
      ]
    },
    {
      "cell_type": "code",
      "execution_count": null,
      "metadata": {
        "id": "49gm4f05DKYm"
      },
      "outputs": [],
      "source": [
        "# Gráfico da árvore de decisão gerada\n",
        "tree.plot_tree(clf)"
      ]
    }
  ],
  "metadata": {
    "kernelspec": {
      "display_name": "Python 3 (ipykernel)",
      "language": "python",
      "name": "python3"
    },
    "language_info": {
      "codemirror_mode": {
        "name": "ipython",
        "version": 3
      },
      "file_extension": ".py",
      "mimetype": "text/x-python",
      "name": "python",
      "nbconvert_exporter": "python",
      "pygments_lexer": "ipython3",
      "version": "3.10.4"
    },
    "colab": {
      "provenance": []
    }
  },
  "nbformat": 4,
  "nbformat_minor": 0
}